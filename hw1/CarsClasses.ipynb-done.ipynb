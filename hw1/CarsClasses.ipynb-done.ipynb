{
  "cells": [
    {
      "cell_type": "code",
      "execution_count": 1,
      "id": "76de1099-52e9-4f4d-a2be-b349d9473091",
      "metadata": {
        "id": "76de1099-52e9-4f4d-a2be-b349d9473091"
      },
      "outputs": [],
      "source": [
        "import os\n",
        "import csv"
      ]
    },
    {
      "cell_type": "code",
      "execution_count": 2,
      "id": "4a31057c-b735-4056-a0df-9cfee41122c9",
      "metadata": {
        "id": "4a31057c-b735-4056-a0df-9cfee41122c9"
      },
      "outputs": [],
      "source": [
        "class CarBase:\n",
        "    def __init__(self, brand,photo_file_name, carrying):\n",
        "        if not isinstance(brand, str):\n",
        "            raise TypeError(\"brand attribute: 'str' expected, '{}' got \".format(type(brand)))\n",
        "        if not isinstance(photo_file_name, str):\n",
        "            raise TypeError(\"photo_file_name attribute: 'str' expected, '{}' got \".format(type(photo_file_name)))\n",
        "        if photo_file_name.split('.')[-1] not in (\"jpg\", \"jpeg\", \"png\", \"gif\"):\n",
        "            raise ValueError(\"photo_file_name attribute: 'jpg', 'jpeg', 'png', 'gif' expected, '{}' got \".format(photo_file_name.split('.')[-1]))                \n",
        "        try:\n",
        "            float(carrying)\n",
        "        except ValueError:\n",
        "            raise ValueError(\"carrying attribute: number expected, '{}' got\".format(carrying))\n",
        "        self.brand = brand\n",
        "        self.photo_file_name = photo_file_name\n",
        "        self.carrying = carrying\n",
        "\n",
        "    def get_photo_file_ext(self):\n",
        "        return os.path.splitext(self.photo_file_name)[1]\n",
        "\n",
        "    def __del__(self):\n",
        "        pass\n",
        "\n",
        "class Car(CarBase):\n",
        "    car_type = 'car'\n",
        "    def __init__(self, brand, photo_file_name, carrying, passenger_seats_count):\n",
        "        super(Car, self).__init__(brand, photo_file_name, carrying)\n",
        "        try:\n",
        "            int(passenger_seats_count)\n",
        "        except ValueError:\n",
        "            raise ValueError(\"passenger_seats_count attribute: number expected, '{}' got\".format(passenger_seats_count))\n",
        "        self.passenger_seats_count = passenger_seats_count\n",
        "\n",
        "class Truck(CarBase):\n",
        "    car_type = 'truck'\n",
        "    def __init__(self, brand, photo_file_name, carrying, body_whl):\n",
        "        super(Truck, self).__init__(brand, photo_file_name, carrying)\n",
        "        self.body_whl = body_whl\n",
        "        try:\n",
        "            self.body_length, self.body_width, self.body_height = map(float,body_whl.split('x'))\n",
        "        except Exception:\n",
        "            self.body_whl = 0\n",
        "            self.body_length, self.body_width, self.body_height = (0,0,0)\n",
        "\n",
        "    def get_body_volume(self):\n",
        "        return self.body_length * self.body_width * self.body_height\n",
        "\n",
        "class SpecMachine(CarBase):\n",
        "    car_type = 'spec_machine'\n",
        "    def __init__(self, brand, photo_file_name, carrying, extra):\n",
        "        super(SpecMachine, self).__init__(brand, photo_file_name, carrying)\n",
        "        if not isinstance(extra, str):\n",
        "            raise TypeError(\"extra attribute: 'str' expected, '{}' got \".format(type(extra)))\n",
        "        self.extra = extra\n",
        "\n",
        "def get_car_list(csv_filename):\n",
        "    cars_list = []\n",
        "    with open(csv_filename) as csv_fd:\n",
        "        reader = csv.reader(csv_fd, delimiter=';')\n",
        "        next(reader) \n",
        "        for row in reader:\n",
        "            try:\n",
        "                if row[0] == 'car':\n",
        "                    cars_list.append(Car(row[1], row[3],row[5],row[2]))\n",
        "                if row[0] == 'truck':\n",
        "                    cars_list.append (Truck(row[1], row[3],row[5],row[4]))\n",
        "                if row[0] == 'spec_machine':\n",
        "                    cars_list.append (Truck(row[1], row[3],row[5],row[6]))\n",
        "            except Exception:\n",
        "                next\n",
        "    return cars_list"
      ]
    },
    {
      "cell_type": "code",
      "source": [
        "!wget https://gist.githubusercontent.com/NooblyRand0m/404c8a252f89862654c3fa6bba3d8bc3/raw/26c97aa3876ef33f3509e3b1209402c5c138f06c/coursera_week3_cars.csv"
      ],
      "metadata": {
        "colab": {
          "base_uri": "https://localhost:8080/"
        },
        "id": "Vz7_ol6q9TU2",
        "outputId": "70a12edd-f823-498e-8bf1-b24607f6f30f"
      },
      "id": "Vz7_ol6q9TU2",
      "execution_count": 3,
      "outputs": [
        {
          "output_type": "stream",
          "name": "stdout",
          "text": [
            "--2022-06-13 07:27:04--  https://gist.githubusercontent.com/NooblyRand0m/404c8a252f89862654c3fa6bba3d8bc3/raw/26c97aa3876ef33f3509e3b1209402c5c138f06c/coursera_week3_cars.csv\n",
            "Resolving gist.githubusercontent.com (gist.githubusercontent.com)... 185.199.110.133, 185.199.109.133, 185.199.111.133, ...\n",
            "Connecting to gist.githubusercontent.com (gist.githubusercontent.com)|185.199.110.133|:443... connected.\n",
            "HTTP request sent, awaiting response... 200 OK\n",
            "Length: 287 [text/plain]\n",
            "Saving to: ‘coursera_week3_cars.csv’\n",
            "\n",
            "coursera_week3_cars 100%[===================>]     287  --.-KB/s    in 0s      \n",
            "\n",
            "2022-06-13 07:27:05 (9.26 MB/s) - ‘coursera_week3_cars.csv’ saved [287/287]\n",
            "\n"
          ]
        }
      ]
    },
    {
      "cell_type": "code",
      "execution_count": 4,
      "id": "596e98b7-6af1-44bb-8895-e67242de2f41",
      "metadata": {
        "colab": {
          "base_uri": "https://localhost:8080/"
        },
        "id": "596e98b7-6af1-44bb-8895-e67242de2f41",
        "outputId": "ad8f0cf7-b43c-40de-f692-bae67e799e23"
      },
      "outputs": [
        {
          "output_type": "execute_result",
          "data": {
            "text/plain": [
              "[<__main__.Car at 0x7f1aefe80e10>,\n",
              " <__main__.Truck at 0x7f1aefe80510>,\n",
              " <__main__.Truck at 0x7f1aefe80f50>,\n",
              " <__main__.Car at 0x7f1aefe80710>]"
            ]
          },
          "metadata": {},
          "execution_count": 4
        }
      ],
      "source": [
        "csv_filename = 'coursera_week3_cars.csv'\n",
        "\n",
        "cars = get_car_list(csv_filename)\n",
        "cars"
      ]
    },
    {
      "cell_type": "code",
      "execution_count": 5,
      "id": "2a6f3dcd-8899-4219-aefc-f3bfca3ead02",
      "metadata": {
        "colab": {
          "base_uri": "https://localhost:8080/"
        },
        "id": "2a6f3dcd-8899-4219-aefc-f3bfca3ead02",
        "outputId": "045b1d3c-ce75-4b5a-e6a9-4ec62071a55d"
      },
      "outputs": [
        {
          "output_type": "stream",
          "name": "stdout",
          "text": [
            "{'brand': 'Nissan xTtrail', 'photo_file_name': 'f1.jpeg', 'carrying': '2.5', 'passenger_seats_count': '4'}\n",
            "{'brand': 'Man', 'photo_file_name': 'f2.png', 'carrying': '20', 'body_whl': '8x3x2.5', 'body_length': 8.0, 'body_width': 3.0, 'body_height': 2.5}\n",
            "{'brand': 'Man', 'photo_file_name': 'f2.png', 'carrying': '20', 'body_whl': 0, 'body_length': 0, 'body_width': 0, 'body_height': 0}\n",
            "{'brand': 'Mazda 6', 'photo_file_name': 'f3.jpeg', 'carrying': '2.5', 'passenger_seats_count': '4'}\n"
          ]
        }
      ],
      "source": [
        "for car in cars:\n",
        "    print(car.__dict__)"
      ]
    },
    {
      "cell_type": "code",
      "execution_count": 6,
      "id": "154a2d67-313b-4324-80bd-b7b87a273075",
      "metadata": {
        "colab": {
          "base_uri": "https://localhost:8080/"
        },
        "id": "154a2d67-313b-4324-80bd-b7b87a273075",
        "outputId": "54d7ad7f-1cf7-4f3f-8eb6-4f668ab1cc8b"
      },
      "outputs": [
        {
          "output_type": "stream",
          "name": "stdout",
          "text": [
            "car\n",
            "Bugatti Veyron\n",
            "bugatti.png\n",
            "0.312\n",
            "2\n"
          ]
        }
      ],
      "source": [
        "car = Car('Bugatti Veyron', 'bugatti.png', '0.312', '2')\n",
        "print(car.car_type, car.brand, car.photo_file_name, car.carrying, car.passenger_seats_count, sep='\\n')\n"
      ]
    },
    {
      "cell_type": "code",
      "execution_count": 7,
      "id": "1969b216-891d-4b68-8092-55c2ae5f24c3",
      "metadata": {
        "colab": {
          "base_uri": "https://localhost:8080/"
        },
        "id": "1969b216-891d-4b68-8092-55c2ae5f24c3",
        "outputId": "f7df3b0f-4078-49a2-fea9-f7a16e9c2117"
      },
      "outputs": [
        {
          "output_type": "stream",
          "name": "stdout",
          "text": [
            "truck\n",
            "Nissan\n",
            "nissan.jpeg\n",
            "3.92\n",
            "2.09\n",
            "1.87\n"
          ]
        }
      ],
      "source": [
        "truck = Truck('Nissan', 'nissan.jpeg', '1.5', '3.92x2.09x1.87')\n",
        "print(truck.car_type, truck.brand, truck.photo_file_name, truck.body_length, truck.body_width, truck.body_height, sep='\\n')"
      ]
    },
    {
      "cell_type": "code",
      "execution_count": 8,
      "id": "e3eb1aa2-b3dc-4500-8304-31da6b7b02a2",
      "metadata": {
        "colab": {
          "base_uri": "https://localhost:8080/"
        },
        "id": "e3eb1aa2-b3dc-4500-8304-31da6b7b02a2",
        "outputId": "af70c800-ea49-430e-fdc8-3cee5ed6eb78"
      },
      "outputs": [
        {
          "output_type": "stream",
          "name": "stdout",
          "text": [
            "spec_machine\n",
            "Komatsu-D355\n",
            "93\n",
            "d355.jpg\n",
            "pipelayer specs\n"
          ]
        }
      ],
      "source": [
        "spec_machine = SpecMachine('Komatsu-D355', 'd355.jpg', '93', 'pipelayer specs')\n",
        "print(spec_machine.car_type, spec_machine.brand, spec_machine.carrying, spec_machine.photo_file_name, spec_machine.extra, sep='\\n')"
      ]
    },
    {
      "cell_type": "code",
      "execution_count": null,
      "id": "eaa29503-818f-47bc-a2c6-f89c007335ce",
      "metadata": {
        "id": "eaa29503-818f-47bc-a2c6-f89c007335ce"
      },
      "outputs": [],
      "source": [
        ""
      ]
    }
  ],
  "metadata": {
    "kernelspec": {
      "display_name": "Python 3.10.0 64-bit",
      "language": "python",
      "name": "python3"
    },
    "language_info": {
      "codemirror_mode": {
        "name": "ipython",
        "version": 3
      },
      "file_extension": ".py",
      "mimetype": "text/x-python",
      "name": "python",
      "nbconvert_exporter": "python",
      "pygments_lexer": "ipython3",
      "version": "3.10.0"
    },
    "vscode": {
      "interpreter": {
        "hash": "a9dfc72c90a1ed36a7b64e29673ff5daa5069c30c857cddc8b8f3c78ea2fb3de"
      }
    },
    "colab": {
      "name": "qwe.ipynb",
      "provenance": [],
      "collapsed_sections": []
    }
  },
  "nbformat": 4,
  "nbformat_minor": 5
}